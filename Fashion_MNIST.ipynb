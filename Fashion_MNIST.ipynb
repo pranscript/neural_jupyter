{
  "nbformat": 4,
  "nbformat_minor": 0,
  "metadata": {
    "colab": {
      "name": "Fashion-MNIST.ipynb",
      "provenance": [],
      "authorship_tag": "ABX9TyNUYfKsR6t2Bu23K1hIgOzG",
      "include_colab_link": true
    },
    "kernelspec": {
      "name": "python3",
      "display_name": "Python 3"
    },
    "accelerator": "GPU"
  },
  "cells": [
    {
      "cell_type": "markdown",
      "metadata": {
        "id": "view-in-github",
        "colab_type": "text"
      },
      "source": [
        "<a href=\"https://colab.research.google.com/github/pranscript/neural_jupyter/blob/master/Fashion_MNIST.ipynb\" target=\"_parent\"><img src=\"https://colab.research.google.com/assets/colab-badge.svg\" alt=\"Open In Colab\"/></a>"
      ]
    },
    {
      "cell_type": "code",
      "metadata": {
        "id": "LnMoKMmqOyhL",
        "colab_type": "code",
        "colab": {}
      },
      "source": [
        "%matplotlib inline                                               \n",
        "%config InlineBackend.figure_format = 'retina'                   \n",
        "\n",
        "import numpy as np\n",
        "import torch"
      ],
      "execution_count": 0,
      "outputs": []
    },
    {
      "cell_type": "code",
      "metadata": {
        "id": "dSzAFfoKO-bg",
        "colab_type": "code",
        "colab": {}
      },
      "source": [
        "import matplotlib.pyplot as plt                                                  \n",
        "from torchvision import datasets, transforms                       \n",
        "from torch import nn                                                 \n",
        "import torch.nn.functional as F                                   \n",
        "from torch import optim "
      ],
      "execution_count": 0,
      "outputs": []
    },
    {
      "cell_type": "code",
      "metadata": {
        "id": "01BV_ynmO--e",
        "colab_type": "code",
        "colab": {}
      },
      "source": [
        "transform = transforms.Compose([transforms.ToTensor(),\n",
        "                              transforms.Normalize((0.5,), (0.5,)),\n",
        "                              ])\n",
        "# 'download=true' downloads the dataset, 'train=true' creates dataset from training otherwise from test.\n",
        "# dataloader provides an batch loading function for dataset. 'batch_size' set no. of samples per batch to load. 'Shuffle=true' shuffles data every epoch.\n",
        "trainset = datasets.FashionMNIST('~/.pytorch/Fashion_MNIST_data/', download=True, train=True, transform=transform)\n",
        "trainloader = torch.utils.data.DataLoader(trainset, batch_size=64, shuffle=True)"
      ],
      "execution_count": 0,
      "outputs": []
    },
    {
      "cell_type": "code",
      "metadata": {
        "id": "43AXwdPuPgoR",
        "colab_type": "code",
        "colab": {}
      },
      "source": [
        "input_size = 784                                                    \n",
        "hidden_sizes1 = [256, 128]\n",
        "hidden_sizes2 = [128, 64]\n",
        "output_size = 10"
      ],
      "execution_count": 0,
      "outputs": []
    },
    {
      "cell_type": "code",
      "metadata": {
        "id": "Q5Hj2r4JPsjJ",
        "colab_type": "code",
        "colab": {
          "base_uri": "https://localhost:8080/",
          "height": 193
        },
        "outputId": "0c0c3143-8691-4b7d-a7f8-641eb7c18f33"
      },
      "source": [
        "from collections import OrderedDict\n",
        "model = nn.Sequential(OrderedDict([\n",
        "                      ('fc1', nn.Linear(input_size, hidden_sizes1[0])),\n",
        "                      ('relu1', nn.ReLU()),\n",
        "                      ('fc2', nn.Linear(hidden_sizes1[0], hidden_sizes1[1])),\n",
        "                      ('relu2', nn.ReLU()),\n",
        "                      ('fc3', nn.Linear(hidden_sizes2[0], hidden_sizes2[1])),\n",
        "                      ('relu3', nn.ReLU()),\n",
        "                      ('output', nn.Linear(hidden_sizes2[1], output_size)),\n",
        "                      ('logsoftmax', nn.LogSoftmax(dim=1))]))\n",
        "\n",
        "criterion = nn.NLLLoss()      # negative log loss\n",
        "optimizer = optim.Adam(model.parameters(), lr=0.003)\n",
        "print(model)"
      ],
      "execution_count": 6,
      "outputs": [
        {
          "output_type": "stream",
          "text": [
            "Sequential(\n",
            "  (fc1): Linear(in_features=784, out_features=256, bias=True)\n",
            "  (relu1): ReLU()\n",
            "  (fc2): Linear(in_features=256, out_features=128, bias=True)\n",
            "  (relu2): ReLU()\n",
            "  (fc3): Linear(in_features=128, out_features=64, bias=True)\n",
            "  (relu3): ReLU()\n",
            "  (output): Linear(in_features=64, out_features=10, bias=True)\n",
            "  (logsoftmax): LogSoftmax()\n",
            ")\n"
          ],
          "name": "stdout"
        }
      ]
    },
    {
      "cell_type": "code",
      "metadata": {
        "id": "0PCSLtU1RIfs",
        "colab_type": "code",
        "colab": {
          "base_uri": "https://localhost:8080/",
          "height": 193
        },
        "outputId": "1ba40ca2-e3f2-43d5-e7ea-a6184d713ce9"
      },
      "source": [
        "#images, labels = next(iter(trainloader))\n",
        "\n",
        "epochs = 10\n",
        "for e in range(epochs):\n",
        "    running_loss = 0\n",
        "    for images, labels in trainloader:\n",
        "        # Flatten MNIST images into a 784 long vector\n",
        "        images = images.view(images.shape[0], -1)\n",
        "    \n",
        "        # TODO: Training pass\n",
        "        optimizer.zero_grad()\n",
        "        \n",
        "        output = model(images)\n",
        "        loss = criterion(output, labels)\n",
        "        loss.backward()\n",
        "        optimizer.step()\n",
        "        \n",
        "        running_loss += loss.item()\n",
        "    else:\n",
        "        print(f\"Training loss: {running_loss/len(trainloader)}\")"
      ],
      "execution_count": 7,
      "outputs": [
        {
          "output_type": "stream",
          "text": [
            "Training loss: 0.5204627874341092\n",
            "Training loss: 0.39203090887905945\n",
            "Training loss: 0.35481434757870906\n",
            "Training loss: 0.3328772822597515\n",
            "Training loss: 0.3148289869414337\n",
            "Training loss: 0.3030909502398231\n",
            "Training loss: 0.2867367056641243\n",
            "Training loss: 0.2809798066009845\n",
            "Training loss: 0.2745936360996542\n",
            "Training loss: 0.2672061528970819\n"
          ],
          "name": "stdout"
        }
      ]
    },
    {
      "cell_type": "code",
      "metadata": {
        "id": "g59uJO4pRglw",
        "colab_type": "code",
        "colab": {
          "base_uri": "https://localhost:8080/",
          "height": 233
        },
        "outputId": "2ed3bb33-85dc-467b-a937-a5d2b56becf5"
      },
      "source": [
        "images, labels = next(iter(trainloader))\n",
        "img = images[0].view(1, 784)\n",
        "# Turn off gradients to speed up this part\n",
        "with torch.no_grad():\n",
        "    logps = model(img)\n",
        "\n",
        "# Output of the network are log-probabilities, need to take exponential for probabilities\n",
        "#print(logps)                \n",
        "ps = torch.exp(logps)\n",
        "#print(ps)\n",
        "\n",
        "img = img.view(1, 28, 28)\n",
        "ps = ps.data.numpy().squeeze()\n",
        "fig, (ax1, ax2) = plt.subplots(figsize=(6,9), ncols=2)\n",
        "ax1.imshow(img.resize_(1, 28, 28).numpy().squeeze())\n",
        "ax1.axis('off')\n",
        "ax2.barh(np.arange(10), ps)\n",
        "ax2.set_aspect(0.1)\n",
        "ax2.set_yticks(np.arange(10))\n",
        "ax2.set_yticklabels(['T-shirt/top',\n",
        "                            'Trouser',\n",
        "                            'Pullover',\n",
        "                            'Dress',\n",
        "                            'Coat',\n",
        "                            'Sandal',\n",
        "                            'Shirt',\n",
        "                            'Sneaker',\n",
        "                            'Bag',\n",
        "                            'Ankle Boot'], size='small');\n",
        "ax2.set_title('Class Probability')\n",
        "ax2.set_xlim(0, 1.1)\n",
        "plt.tight_layout()"
      ],
      "execution_count": 13,
      "outputs": [
        {
          "output_type": "display_data",
          "data": {
            "image/png": "[encoded data removed]",
            "text/plain": [
              "<Figure size 432x648 with 2 Axes>"
            ]
          },
          "metadata": {
            "tags": [],
            "image/png": {
              "width": 424,
              "height": 216
            }
          }
        }
      ]
    },
    {
      "cell_type": "code",
      "metadata": {
        "id": "SZ0c1MIZSY1e",
        "colab_type": "code",
        "colab": {}
      },
      "source": [
        ""
      ],
      "execution_count": 0,
      "outputs": []
    }
  ]
}