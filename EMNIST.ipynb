{
  "nbformat": 4,
  "nbformat_minor": 0,
  "metadata": {
    "colab": {
      "name": "EMNIST.ipynb",
      "provenance": [],
      "collapsed_sections": [],
      "authorship_tag": "ABX9TyM4koJR+p4v8H3E6mWW8OyJ",
      "include_colab_link": true
    },
    "kernelspec": {
      "name": "python3",
      "display_name": "Python 3"
    },
    "accelerator": "GPU"
  },
  "cells": [
    {
      "cell_type": "markdown",
      "metadata": {
        "id": "view-in-github",
        "colab_type": "text"
      },
      "source": [
        "<a href=\"https://colab.research.google.com/github/pranscript/neural_jupyter/blob/master/EMNIST.ipynb\" target=\"_parent\"><img src=\"https://colab.research.google.com/assets/colab-badge.svg\" alt=\"Open In Colab\"/></a>"
      ]
    },
    {
      "cell_type": "code",
      "metadata": {
        "id": "Ov_EvwlxUbOs",
        "colab_type": "code",
        "colab": {}
      },
      "source": [
        "%matplotlib inline                                               \n",
        "%config InlineBackend.figure_format = 'retina'                   \n",
        "\n",
        "import numpy as np\n",
        "import torch"
      ],
      "execution_count": 0,
      "outputs": []
    },
    {
      "cell_type": "code",
      "metadata": {
        "id": "4J0RuTcmUgNS",
        "colab_type": "code",
        "colab": {}
      },
      "source": [
        "import matplotlib.pyplot as plt                                                  \n",
        "from torchvision import datasets, transforms                       \n",
        "from torch import nn                                                 \n",
        "import torch.nn.functional as F                                   \n",
        "from torch import optim "
      ],
      "execution_count": 0,
      "outputs": []
    },
    {
      "cell_type": "code",
      "metadata": {
        "id": "EVIkBPF7UjCq",
        "colab_type": "code",
        "colab": {}
      },
      "source": [
        "transform = transforms.Compose([transforms.ToTensor(),\n",
        "                              transforms.Normalize((0.5,), (0.5,)),\n",
        "                              ])\n",
        "# 'download=true' downloads the dataset, 'train=true' creates dataset from training otherwise from test.\n",
        "# dataloader provides an batch loading function for dataset. 'batch_size' set no. of samples per batch to load. 'Shuffle=true' shuffles data every epoch.\n",
        "trainset = datasets.EMNIST('~/.pytorch/EMNIST_data/', split='letters', download=True, train=True, transform=transform)\n",
        "trainloader = torch.utils.data.DataLoader(trainset, batch_size=64, shuffle=True)\n",
        "\n",
        "testset = datasets.EMNIST('~/.pytorch/EMNIST_data/', split='letters', download=True, train=False, transform=transform)\n",
        "testloader = torch.utils.data.DataLoader(testset, batch_size=64, shuffle=True)"
      ],
      "execution_count": 0,
      "outputs": []
    },
    {
      "cell_type": "code",
      "metadata": {
        "id": "R0P7JRcqi9eC",
        "colab_type": "code",
        "outputId": "60370e0f-9dac-4eca-baed-591c295943b1",
        "colab": {
          "base_uri": "https://localhost:8080/",
          "height": 175
        }
      },
      "source": [
        "trainset"
      ],
      "execution_count": 9,
      "outputs": [
        {
          "output_type": "execute_result",
          "data": {
            "text/plain": [
              "Dataset EMNIST\n",
              "    Number of datapoints: 124800\n",
              "    Root location: /root/.pytorch/EMNIST_data/\n",
              "    Split: Train\n",
              "    StandardTransform\n",
              "Transform: Compose(\n",
              "               ToTensor()\n",
              "               Normalize(mean=(0.5,), std=(0.5,))\n",
              "           )"
            ]
          },
          "metadata": {
            "tags": []
          },
          "execution_count": 9
        }
      ]
    },
    {
      "cell_type": "code",
      "metadata": {
        "id": "q1aAlW1XkLty",
        "colab_type": "code",
        "outputId": "edd984bb-833e-4bee-9bc6-cf8ab14a7eb1",
        "colab": {
          "base_uri": "https://localhost:8080/",
          "height": 34
        }
      },
      "source": [
        "trainloader.batch_size"
      ],
      "execution_count": 10,
      "outputs": [
        {
          "output_type": "execute_result",
          "data": {
            "text/plain": [
              "64"
            ]
          },
          "metadata": {
            "tags": []
          },
          "execution_count": 10
        }
      ]
    },
    {
      "cell_type": "code",
      "metadata": {
        "id": "Cm8_ztbEUqBj",
        "colab_type": "code",
        "colab": {}
      },
      "source": [
        "input_size = 784                                                    \n",
        "hidden_sizes1 = [256, 128]\n",
        "hidden_sizes2 = [128, 64]\n",
        "output_size = 27"
      ],
      "execution_count": 0,
      "outputs": []
    },
    {
      "cell_type": "code",
      "metadata": {
        "id": "E5j0HRk8UySa",
        "colab_type": "code",
        "outputId": "c61266d7-4522-4d13-9cd4-3de6971f30c1",
        "colab": {
          "base_uri": "https://localhost:8080/",
          "height": 246
        }
      },
      "source": [
        "from collections import OrderedDict\n",
        "model = nn.Sequential(OrderedDict([\n",
        "                      ('fc1', nn.Linear(input_size, hidden_sizes1[0])),\n",
        "                      ('relu1', nn.ReLU()),\n",
        "                      ('drop1', nn.Dropout(p=0.2)),\n",
        "                      ('fc2', nn.Linear(hidden_sizes1[0], hidden_sizes1[1])),\n",
        "                      ('relu2', nn.ReLU()),\n",
        "                      ('drop2', nn.Dropout(p=0.2)),\n",
        "                      ('fc3', nn.Linear(hidden_sizes2[0], hidden_sizes2[1])),\n",
        "                      ('relu3', nn.ReLU()),\n",
        "                      ('drop3', nn.Dropout(p=0.2)),\n",
        "                      ('output', nn.Linear(hidden_sizes2[1], output_size)),\n",
        "                      ('logsoftmax', nn.LogSoftmax(dim=1))]))\n",
        "\n",
        "criterion = nn.NLLLoss()      # negative log loss\n",
        "optimizer = optim.Adam(model.parameters(), lr=0.003)\n",
        "print(model)"
      ],
      "execution_count": 13,
      "outputs": [
        {
          "output_type": "stream",
          "text": [
            "Sequential(\n",
            "  (fc1): Linear(in_features=784, out_features=256, bias=True)\n",
            "  (relu1): ReLU()\n",
            "  (drop1): Dropout(p=0.2, inplace=False)\n",
            "  (fc2): Linear(in_features=256, out_features=128, bias=True)\n",
            "  (relu2): ReLU()\n",
            "  (drop2): Dropout(p=0.2, inplace=False)\n",
            "  (fc3): Linear(in_features=128, out_features=64, bias=True)\n",
            "  (relu3): ReLU()\n",
            "  (drop3): Dropout(p=0.2, inplace=False)\n",
            "  (output): Linear(in_features=64, out_features=27, bias=True)\n",
            "  (logsoftmax): LogSoftmax()\n",
            ")\n"
          ],
          "name": "stdout"
        }
      ]
    },
    {
      "cell_type": "code",
      "metadata": {
        "id": "5A1W80miU0UD",
        "colab_type": "code",
        "outputId": "45fe0a22-6089-4e8d-bb96-7d203f6935dd",
        "colab": {
          "base_uri": "https://localhost:8080/",
          "height": 545
        }
      },
      "source": [
        "train_losses, test_losses = [], []\n",
        "\n",
        "epochs = 30\n",
        "steps = 0\n",
        "\n",
        "for e in range(epochs):\n",
        "    running_loss = 0\n",
        "    for images, labels in trainloader:\n",
        "        # Flatten MNIST images into a 784 long vector\n",
        "        images = images.view(images.shape[0], -1)\n",
        "    \n",
        "        # TODO: Training pass\n",
        "        optimizer.zero_grad()\n",
        "        \n",
        "        output = model(images)\n",
        "        loss = criterion(output, labels)\n",
        "        loss.backward()\n",
        "        optimizer.step()\n",
        "        \n",
        "        running_loss += loss.item()\n",
        "    else:\n",
        "        #print(f\"Training loss: {running_loss/len(trainloader)}\")\n",
        "\n",
        "        test_loss = 0\n",
        "        accuracy = 0\n",
        "\n",
        "        with torch.no_grad():\n",
        "          model.eval()\n",
        "          for images, labels in testloader:\n",
        "            images = images.view(images.shape[0], -1)\n",
        "            log_ps = model(images)\n",
        "            test_loss += criterion(log_ps, labels)\n",
        "\n",
        "            ps = torch.exp(log_ps)\n",
        "            top_p, top_class = ps.topk(1, dim=1)\n",
        "            equals = top_class == labels.view(*top_class.shape)\n",
        "            accuracy += torch.mean(equals.type(torch.FloatTensor))\n",
        "\n",
        "        model.train()\n",
        "        \n",
        "        train_losses.append(running_loss/len(trainloader))\n",
        "        test_losses.append(test_loss/len(testloader))\n",
        "\n",
        "        print(\"Epoch: {}/{}.. \".format(e+1, epochs),\n",
        "              \"Training Loss: {:.3f}.. \".format(running_loss/len(trainloader)),\n",
        "              \"Test Loss: {:.3f}.. \".format(test_loss/len(testloader)),\n",
        "              \"Test Accuracy: {:.3f}\".format(accuracy/len(testloader)))"
      ],
      "execution_count": 14,
      "outputs": [
        {
          "output_type": "stream",
          "text": [
            "Epoch: 1/30..  Training Loss: 1.172..  Test Loss: 0.639..  Test Accuracy: 0.799\n",
            "Epoch: 2/30..  Training Loss: 0.866..  Test Loss: 0.564..  Test Accuracy: 0.824\n",
            "Epoch: 3/30..  Training Loss: 0.806..  Test Loss: 0.511..  Test Accuracy: 0.844\n",
            "Epoch: 4/30..  Training Loss: 0.772..  Test Loss: 0.510..  Test Accuracy: 0.844\n",
            "Epoch: 5/30..  Training Loss: 0.750..  Test Loss: 0.532..  Test Accuracy: 0.840\n",
            "Epoch: 6/30..  Training Loss: 0.734..  Test Loss: 0.494..  Test Accuracy: 0.851\n",
            "Epoch: 7/30..  Training Loss: 0.723..  Test Loss: 0.470..  Test Accuracy: 0.859\n",
            "Epoch: 8/30..  Training Loss: 0.710..  Test Loss: 0.469..  Test Accuracy: 0.859\n",
            "Epoch: 9/30..  Training Loss: 0.708..  Test Loss: 0.474..  Test Accuracy: 0.860\n",
            "Epoch: 10/30..  Training Loss: 0.699..  Test Loss: 0.473..  Test Accuracy: 0.853\n",
            "Epoch: 11/30..  Training Loss: 0.689..  Test Loss: 0.455..  Test Accuracy: 0.861\n",
            "Epoch: 12/30..  Training Loss: 0.684..  Test Loss: 0.475..  Test Accuracy: 0.849\n",
            "Epoch: 13/30..  Training Loss: 0.676..  Test Loss: 0.464..  Test Accuracy: 0.859\n",
            "Epoch: 14/30..  Training Loss: 0.681..  Test Loss: 0.460..  Test Accuracy: 0.864\n",
            "Epoch: 15/30..  Training Loss: 0.664..  Test Loss: 0.461..  Test Accuracy: 0.861\n",
            "Epoch: 16/30..  Training Loss: 0.664..  Test Loss: 0.456..  Test Accuracy: 0.865\n",
            "Epoch: 17/30..  Training Loss: 0.667..  Test Loss: 0.462..  Test Accuracy: 0.864\n",
            "Epoch: 18/30..  Training Loss: 0.664..  Test Loss: 0.460..  Test Accuracy: 0.863\n",
            "Epoch: 19/30..  Training Loss: 0.661..  Test Loss: 0.454..  Test Accuracy: 0.866\n",
            "Epoch: 20/30..  Training Loss: 0.655..  Test Loss: 0.455..  Test Accuracy: 0.864\n",
            "Epoch: 21/30..  Training Loss: 0.654..  Test Loss: 0.476..  Test Accuracy: 0.859\n",
            "Epoch: 22/30..  Training Loss: 0.646..  Test Loss: 0.467..  Test Accuracy: 0.857\n",
            "Epoch: 23/30..  Training Loss: 0.648..  Test Loss: 0.457..  Test Accuracy: 0.863\n",
            "Epoch: 24/30..  Training Loss: 0.645..  Test Loss: 0.444..  Test Accuracy: 0.870\n",
            "Epoch: 25/30..  Training Loss: 0.646..  Test Loss: 0.449..  Test Accuracy: 0.863\n",
            "Epoch: 26/30..  Training Loss: 0.651..  Test Loss: 0.448..  Test Accuracy: 0.867\n",
            "Epoch: 27/30..  Training Loss: 0.644..  Test Loss: 0.442..  Test Accuracy: 0.869\n",
            "Epoch: 28/30..  Training Loss: 0.644..  Test Loss: 0.446..  Test Accuracy: 0.869\n",
            "Epoch: 29/30..  Training Loss: 0.641..  Test Loss: 0.455..  Test Accuracy: 0.866\n",
            "Epoch: 30/30..  Training Loss: 0.641..  Test Loss: 0.453..  Test Accuracy: 0.867\n"
          ],
          "name": "stdout"
        }
      ]
    },
    {
      "cell_type": "code",
      "metadata": {
        "id": "OywFlMiQXRd9",
        "colab_type": "code",
        "colab": {
          "base_uri": "https://localhost:8080/",
          "height": 284
        },
        "outputId": "497aea1d-8c54-46e7-e0ba-90dfd2ad6c47"
      },
      "source": [
        "plt.plot(train_losses, label='Training loss')\n",
        "plt.plot(test_losses, label='Validation loss')\n",
        "plt.legend(frameon=False)"
      ],
      "execution_count": 15,
      "outputs": [
        {
          "output_type": "execute_result",
          "data": {
            "text/plain": [
              "<matplotlib.legend.Legend at 0x7f709bc12668>"
            ]
          },
          "metadata": {
            "tags": []
          },
          "execution_count": 15
        },
        {
          "output_type": "display_data",
          "data": {
            "image/png": "[encoded data removed]",
            "text/plain": [
              "<Figure size 432x288 with 1 Axes>"
            ]
          },
          "metadata": {
            "tags": [],
            "image/png": {
              "width": 373,
              "height": 249
            }
          }
        }
      ]
    },
    {
      "cell_type": "code",
      "metadata": {
        "id": "U-ZsfAPMU2BB",
        "colab_type": "code",
        "outputId": "e0af126c-7d96-43bf-de02-67a84f2776be",
        "colab": {
          "base_uri": "https://localhost:8080/",
          "height": 762
        }
      },
      "source": [
        "images, labels = next(iter(trainloader))\n",
        "img = images[0].view(1, 784)\n",
        "# Turn off gradients to speed up this part\n",
        "with torch.no_grad():\n",
        "    logps = model.forward(img)\n",
        "\n",
        "# Output of the network are log-probabilities, need to take exponential for probabilities\n",
        "#print(logps)                \n",
        "ps = torch.exp(logps)\n",
        "#print(ps)\n",
        "\n",
        "img = img.view(1, 28, 28)\n",
        "ps = ps.data.numpy().squeeze()\n",
        "#ps\n",
        "fig, (ax1, ax2) = plt.subplots(figsize=(6,9), ncols=2)\n",
        "ax1.imshow(img.resize_(1, 28, 28).numpy().squeeze())\n",
        "#ax1.axis('off')\n",
        "ax2.barh(np.arange(27), ps)\n",
        "ax2.set_aspect(0.1)\n",
        "ax2.set_yticks(np.arange(27))\n",
        "ax2.set_yticklabels(['un','A',\n",
        "                            'B',\n",
        "                            'C',\n",
        "                            'D',\n",
        "                            'E',\n",
        "                            'F',\n",
        "                            'G',\n",
        "                            'H',\n",
        "                            'I',\n",
        "                            'J',\n",
        "                            'K',\n",
        "                            'L',\n",
        "                            'M',\n",
        "                            'N',\n",
        "                            'O',\n",
        "                            'P',\n",
        "                            'Q',\n",
        "                            'R',\n",
        "                            'S',\n",
        "                            'T',\n",
        "                            'U',\n",
        "                            'V',\n",
        "                            'W',\n",
        "                            'X',\n",
        "                            'Y',\n",
        "                            'Z'], size='small');\n",
        "ax2.set_title('Class Probability')\n",
        "ax2.set_xlim(0, 1.1)\n",
        "plt.tight_layout()"
      ],
      "execution_count": 69,
      "outputs": [
        {
          "output_type": "error",
          "ename": "AttributeError",
          "evalue": "ignored",
          "traceback": [
            "\u001b[0;31m---------------------------------------------------------------------------\u001b[0m",
            "\u001b[0;31mAttributeError\u001b[0m                            Traceback (most recent call last)",
            "\u001b[0;32m<ipython-input-69-1b673a1a06a2>\u001b[0m in \u001b[0;36m<module>\u001b[0;34m()\u001b[0m\n\u001b[1;32m     15\u001b[0m \u001b[0mfig\u001b[0m\u001b[0;34m,\u001b[0m \u001b[0;34m(\u001b[0m\u001b[0max1\u001b[0m\u001b[0;34m,\u001b[0m \u001b[0max2\u001b[0m\u001b[0;34m)\u001b[0m \u001b[0;34m=\u001b[0m \u001b[0mplt\u001b[0m\u001b[0;34m.\u001b[0m\u001b[0msubplots\u001b[0m\u001b[0;34m(\u001b[0m\u001b[0mfigsize\u001b[0m\u001b[0;34m=\u001b[0m\u001b[0;34m(\u001b[0m\u001b[0;36m6\u001b[0m\u001b[0;34m,\u001b[0m\u001b[0;36m9\u001b[0m\u001b[0;34m)\u001b[0m\u001b[0;34m,\u001b[0m \u001b[0mncols\u001b[0m\u001b[0;34m=\u001b[0m\u001b[0;36m2\u001b[0m\u001b[0;34m)\u001b[0m\u001b[0;34m\u001b[0m\u001b[0;34m\u001b[0m\u001b[0m\n\u001b[1;32m     16\u001b[0m \u001b[0max1\u001b[0m\u001b[0;34m.\u001b[0m\u001b[0mimshow\u001b[0m\u001b[0;34m(\u001b[0m\u001b[0mimg\u001b[0m\u001b[0;34m.\u001b[0m\u001b[0mresize_\u001b[0m\u001b[0;34m(\u001b[0m\u001b[0;36m1\u001b[0m\u001b[0;34m,\u001b[0m \u001b[0;36m28\u001b[0m\u001b[0;34m,\u001b[0m \u001b[0;36m28\u001b[0m\u001b[0;34m)\u001b[0m\u001b[0;34m.\u001b[0m\u001b[0mnumpy\u001b[0m\u001b[0;34m(\u001b[0m\u001b[0;34m)\u001b[0m\u001b[0;34m.\u001b[0m\u001b[0msqueeze\u001b[0m\u001b[0;34m(\u001b[0m\u001b[0;34m)\u001b[0m\u001b[0;34m)\u001b[0m\u001b[0;34m\u001b[0m\u001b[0;34m\u001b[0m\u001b[0m\n\u001b[0;32m---> 17\u001b[0;31m \u001b[0max1\u001b[0m\u001b[0;34m.\u001b[0m\u001b[0mAxes\u001b[0m\u001b[0;34m.\u001b[0m\u001b[0minvert_yaxis\u001b[0m\u001b[0;34m\u001b[0m\u001b[0;34m\u001b[0m\u001b[0m\n\u001b[0m\u001b[1;32m     18\u001b[0m \u001b[0;31m#ax1.axis('off')\u001b[0m\u001b[0;34m\u001b[0m\u001b[0;34m\u001b[0m\u001b[0;34m\u001b[0m\u001b[0m\n\u001b[1;32m     19\u001b[0m \u001b[0max2\u001b[0m\u001b[0;34m.\u001b[0m\u001b[0mbarh\u001b[0m\u001b[0;34m(\u001b[0m\u001b[0mnp\u001b[0m\u001b[0;34m.\u001b[0m\u001b[0marange\u001b[0m\u001b[0;34m(\u001b[0m\u001b[0;36m27\u001b[0m\u001b[0;34m)\u001b[0m\u001b[0;34m,\u001b[0m \u001b[0mps\u001b[0m\u001b[0;34m)\u001b[0m\u001b[0;34m\u001b[0m\u001b[0;34m\u001b[0m\u001b[0m\n",
            "\u001b[0;31mAttributeError\u001b[0m: 'AxesSubplot' object has no attribute 'Axes'"
          ]
        },
        {
          "output_type": "display_data",
          "data": {
            "image/png": "[encoded data removed]",
            "text/plain": [
              "<Figure size 432x648 with 2 Axes>"
            ]
          },
          "metadata": {
            "tags": [],
            "image/png": {
              "width": 376,
              "height": 523
            }
          }
        }
      ]
    },
    {
      "cell_type": "code",
      "metadata": {
        "id": "Atr9vY6rYYvB",
        "colab_type": "code",
        "colab": {}
      },
      "source": [
        ""
      ],
      "execution_count": 0,
      "outputs": []
    }
  ]
}