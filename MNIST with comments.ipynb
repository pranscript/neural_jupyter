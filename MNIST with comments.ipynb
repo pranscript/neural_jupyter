{
  "nbformat": 4,
  "nbformat_minor": 0,
  "metadata": {
    "colab": {
      "name": "MNIST.ipynb",
      "provenance": [],
      "collapsed_sections": [],
      "authorship_tag": "ABX9TyOLyvQkdwklp5zglLdHmDyL",
      "include_colab_link": true
    },
    "kernelspec": {
      "name": "python3",
      "display_name": "Python 3"
    },
    "accelerator": "GPU"
  },
  "cells": [
    {
      "cell_type": "markdown",
      "metadata": {
        "id": "view-in-github",
        "colab_type": "text"
      },
      "source": [
        "<a href=\"https://colab.research.google.com/github/pranscript/neural_jupyter/blob/master/MNIST%20with%20comments.ipynb\" target=\"_parent\"><img src=\"https://colab.research.google.com/assets/colab-badge.svg\" alt=\"Open In Colab\"/></a>"
      ]
    },
    {
      "cell_type": "code",
      "metadata": {
        "id": "alypQBtGMOjR",
        "colab_type": "code",
        "colab": {}
      },
      "source": [
        "# magic function to initialize matplotlib in jupyter. It renders the figure in notebook\n",
        "# this sets the config to display retina quality graphs if screen supports\n",
        "\n",
        "%matplotlib inline                                               \n",
        "%config InlineBackend.figure_format = 'retina'                   \n",
        "\n",
        "import numpy as np\n",
        "import torch\n",
        "\n",
        "import matplotlib.pyplot as plt                                                  \n",
        "from torchvision import datasets, transforms                      # imports 'datasets' already available to us through torchvision. 'Transforms' are common image \n",
        "from torch import nn                                              # transformations functions available to us. 'Torchvision' consists of these popular datasets,   \n",
        "import torch.nn.functional as F                                   # model architectures and common image transformations. \n",
        "from torch import optim                                           # 'nn' is neural network used to make network models easily. 'optim' has optimization algorithms"
      ],
      "execution_count": 0,
      "outputs": []
    },
    {
      "cell_type": "code",
      "metadata": {
        "id": "3Uzrm37-OdxI",
        "colab_type": "code",
        "colab": {}
      },
      "source": [
        "\n",
        "# All transforms are clubbed together with 'compose'. All transforms in 'compose' is applied to input one by one.\n",
        "# toTensor() converts to tensor\n",
        "# normalization is done to bring all values in a fixed range proportionally. (image = (image - mean) / std). This brings value between [-1 to 1]\n",
        "# For grayscale image, only one channel is there so 1 mean and 1 std value is passed.\n",
        "# For RGB image, 3 mean and 3 std values are passed since it has 3 channels.\n",
        "\n",
        "transform = transforms.Compose([transforms.ToTensor(),\n",
        "                              transforms.Normalize((0.5,), (0.5,)),\n",
        "                              ])\n",
        "# 'download=true' downloads the dataset, 'train=true' creates dataset from training otherwise from test.\n",
        "# dataloader provides an batch loading function for dataset. 'batch_size' set no. of samples per batch to load. 'Shuffle=true' shuffles data every epoch.\n",
        "trainset = datasets.MNIST('~/.pytorch/MNIST_data/', download=True, train=True, transform=transform)\n",
        "trainloader = torch.utils.data.DataLoader(trainset, batch_size=64, shuffle=True)"
      ],
      "execution_count": 0,
      "outputs": []
    },
    {
      "cell_type": "code",
      "metadata": {
        "id": "eggL5VAiPQum",
        "colab_type": "code",
        "colab": {}
      },
      "source": [
        "# input layers, hidden layers and output layers are defined. 784 will get mapped to 128 hidden layers. 128 to 64, then 64 to 10.\n",
        "input_size = 784                                                    \n",
        "hidden_sizes = [128, 64]\n",
        "output_size = 10\n",
        "\n",
        "# Sequentially all the functions will be applied to the input\n",
        "# Weights and bias are automatically created. You can manually set weights and bias\n",
        "# model.fc1.bias.data.fill_(0) to fill bias\n",
        "# print('Initial weights - ', model[0].weight)\n",
        "# logsoftmax function has dim=1 to sum across columns\n",
        "from collections import OrderedDict\n",
        "model = nn.Sequential(OrderedDict([\n",
        "                      ('fc1', nn.Linear(input_size, hidden_sizes[0])),\n",
        "                      ('relu1', nn.ReLU()),\n",
        "                      ('fc2', nn.Linear(hidden_sizes[0], hidden_sizes[1])),\n",
        "                      ('relu2', nn.ReLU()),\n",
        "                      ('output', nn.Linear(hidden_sizes[1], output_size)),\n",
        "                      ('logsoftmax', nn.LogSoftmax(dim=1))]))\n",
        "\n",
        "criterion = nn.NLLLoss()\n",
        "optimizer = optim.SGD(model.parameters(), lr=0.003)\n",
        "print(model)\n",
        "\n",
        "images, labels = next(iter(trainloader))\n",
        "\n",
        "# tensor is converted to numpy array\n",
        "# squeeze() removes all single dimensional entries from its shape if axis not mentioned.\n",
        "plt.imshow(images[1].numpy().squeeze(), cmap='Greys_r');\n",
        "\n",
        "epochs = 5\n",
        "for e in range(epochs):\n",
        "    running_loss = 0\n",
        "    for images, labels in trainloader:\n",
        "        # Flatten MNIST images into a 784 long vector\n",
        "        images = images.view(images.shape[0], -1)\n",
        "    \n",
        "        # TODO: Training pass\n",
        "        optimizer.zero_grad()\n",
        "        \n",
        "        output = model(images)\n",
        "        loss = criterion(output, labels)\n",
        "        loss.backward()\n",
        "        optimizer.step()\n",
        "        \n",
        "        running_loss += loss.item()\n",
        "    else:\n",
        "        print(f\"Training loss: {running_loss/len(trainloader)}\")"
      ],
      "execution_count": 0,
      "outputs": []
    },
    {
      "cell_type": "code",
      "metadata": {
        "id": "XGKx-k9qyvOm",
        "colab_type": "code",
        "colab": {
          "base_uri": "https://localhost:8080/",
          "height": 252
        },
        "outputId": "7bdfac4a-b08b-4637-f8ec-4a2f39ae2f45"
      },
      "source": [
        "images, labels = next(iter(trainloader))\n",
        "img = images[0].view(1, 784)\n",
        "# Turn off gradients to speed up this part\n",
        "with torch.no_grad():\n",
        "    logps = model(img)\n",
        "\n",
        "# Output of the network are log-probabilities, need to take exponential for probabilities\n",
        "ps = torch.exp(logps)\n",
        "\n",
        "img = img.view(1, 28, 28)\n",
        "ps = ps.data.numpy().squeeze()\n",
        "fig, (ax1, ax2) = plt.subplots(figsize=(6,9), ncols=2)\n",
        "ax1.imshow(img.resize_(1, 28, 28).numpy().squeeze())\n",
        "ax1.axis('off')\n",
        "ax2.barh(np.arange(10), ps)\n",
        "ax2.set_aspect(0.1)\n",
        "ax2.set_yticks(np.arange(10))\n",
        "ax2.set_yticklabels(np.arange(10))\n",
        "ax2.set_title('Class Probability')\n",
        "ax2.set_xlim(0, 1.1)\n",
        "plt.tight_layout()"
      ],
      "execution_count": 49,
      "outputs": [
        {
          "output_type": "display_data",
          "data": {
            "image/png": "[encoded data removed]",
            "text/plain": [
              "<Figure size 432x648 with 2 Axes>"
            ]
          },
          "metadata": {
            "tags": [],
            "image/png": {
              "width": 424,
              "height": 235
            }
          }
        }
      ]
    },
    {
      "cell_type": "code",
      "metadata": {
        "id": "caMWPGENzOm7",
        "colab_type": "code",
        "colab": {}
      },
      "source": [
        ""
      ],
      "execution_count": 0,
      "outputs": []
    }
  ]
}